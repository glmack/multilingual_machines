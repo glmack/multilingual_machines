{
 "cells": [
  {
   "cell_type": "markdown",
   "metadata": {},
   "source": [
    "# Measuring Multilingual Machines\n",
    "#### BLEU Scores and Cross-Lingual Machine Learning\n",
    "\n",
    "#### by Lee Mackey"
   ]
  },
  {
   "cell_type": "markdown",
   "metadata": {},
   "source": [
    "This notebook accompanies the Medium article titled \"Measuring Multilingual Machines\""
   ]
  },
  {
   "cell_type": "code",
   "execution_count": 1,
   "metadata": {},
   "outputs": [],
   "source": [
    "# Import modules\n",
    "\n",
    "import sacrebleu\n",
    "from nltk.translate.bleu_score import (sentence_bleu, corpus_bleu, \n",
    "                                       modified_precision, \n",
    "                                       SmoothingFunction)\n",
    "\n",
    "from nltk import (bigrams, trigrams, ngrams, sent_tokenize, word_tokenize)\n",
    "from multilingual_machines import split_tokens, clean_punctuation\n",
    "import string\n",
    "import json"
   ]
  },
  {
   "cell_type": "markdown",
   "metadata": {},
   "source": [
    "Does your machine learn in Chinese? 您和您的機器學習中文嗎? I don’t speak a word of Mandarin or Cantonese so Google Translate gets all the credit — good or bad — for the preceding sentence. But how might a researcher quickly evaluate the quality of this machine translation? This question encapsulates the basic challenge that gives rise to the BLEU metric. BLEU, which stands for bilingual language understudy, is the default measure of machine translation quality and is also sometimes applied to more general cross-lingual approaches to natural language processing (NLP). The metric is well-established in the machine translation space but some analysts also question the application to a wider set of NLP tasks beyond the original purpose for which the algorithm was developed. This article explores these issues by briefly discussing basic lessons and limits of BLEU using examples drawn from the multilingual space of global patent documents."
   ]
  },
  {
   "cell_type": "markdown",
   "metadata": {},
   "source": [
    "### Basics of BLEU"
   ]
  },
  {
   "cell_type": "markdown",
   "metadata": {},
   "source": [
    "Researchers at IBM developed the BLEU algorithm in 2002 as an efficient method to evaluate machine translation tasks that would otherwise require human evaluators. The original paper by the developers, Papineni and colleagues, is a good place to start if you’re interested in the founding milieu and details of the algorithm [1]. BLEU is an adjusted measure of precision of the overlap of word sequences between a “candidate” machine translation and one or more “reference” human translations. Conceptualizing the algorithm at the unit of a machine-translated sentence, BLEU counts the maximum number of times that word sequences, expressed by the term n-grams, occur in human-translated sentences. The adjusted counts of each n-gram in the sentence are summed and the number is then “adjusted” by dividing by the total (unclipped) number of n-grams in the candidate text. "
   ]
  },
  {
   "cell_type": "markdown",
   "metadata": {},
   "source": [
    "The BLEU score is as a number between 0 and 1, where 0 represents the complete absence of overlap in n-grams between candidate and reference texts, and where 1 might equal a machine translation that is exactly similar to one of the reference texts. While this example considers BLEU at the level of the sentence, the actual evaluation of a machine translation is calculated by averaging out sentence scores across an entire corpus and adjusting this aggregate metric to account for the typically-longer word lengths of machine translations. If you’re interested in learning more, you might learn to calculate BLEU in a fifteen-minute video by Andrew Ng of DeepLearning.Ai. To make learning BLEU more tangible, I begin with machine translations and human translations of Chinese text"
   ]
  },
  {
   "cell_type": "markdown",
   "metadata": {},
   "source": [
    "### Applications of BLEU using Patent Texts\n",
    "A growing share of patents in the machine learning space are originally written and filed in Chinese according to a recent report by WIPO, the global organization governing patents. To explore the basics of BLEU in more tangible manner, we first begin with the international filing of a Chinese language patent by the e-commerce company Alibaba for an invention related to natural language processing."
   ]
  },
  {
   "cell_type": "code",
   "execution_count": 2,
   "metadata": {},
   "outputs": [],
   "source": [
    "# read example data from 'patent_examples.txt' file (JSON)\n",
    "with open('patent_examples.txt') as f:\n",
    "    data = json.load(f)\n",
    "    \n",
    "# for more details on the example patent and the data source:\n",
    "\n",
    "# paste into browser to inspect patent at Chinese version of WIPO Patentscope GUI:   \n",
    "# https://patentscope.wipo.int/search/zh/detail.jsf?docId=WO2019085779\n",
    "    \n",
    "# paste into browser to inspect patent at English version of WIPO Patentscope GUI:\n",
    "# https://patentscope.wipo.int/search/en/detail.jsf?docId=WO2019085779"
   ]
  },
  {
   "cell_type": "markdown",
   "metadata": {},
   "source": [
    "A sentence from the Chinese language abstract section of the original patent is displayed below."
   ]
  },
  {
   "cell_type": "code",
   "execution_count": 3,
   "metadata": {},
   "outputs": [
    {
     "name": "stdout",
     "output_type": "stream",
     "text": [
      "['可以使用从日志中挖掘出的训练语料来训练语言模型，也可以通过对日志中的文本进行分词、统计来整理常用词库.']\n"
     ]
    }
   ],
   "source": [
    "# inspect sentence from summary of patent in original Chinese\n",
    "print(data['original_sentence_cn'])"
   ]
  },
  {
   "cell_type": "markdown",
   "metadata": {},
   "source": [
    "Human translators often produce translations of equivalent quality that nonetheless differ in structure or word choice. BLEU is therefore developed to accept single or multiple reference translations by humans. Next, we obtain Chinese-to-English \"reference\" translations from two human translators via the platform Gengo. The translations are below."
   ]
  },
  {
   "cell_type": "code",
   "execution_count": 4,
   "metadata": {},
   "outputs": [
    {
     "name": "stdout",
     "output_type": "stream",
     "text": [
      "['The training corpus extracted from a log can be used to train the language model, or the common lexicon can be sorted by segmenting and counting text in the log.']\n"
     ]
    }
   ],
   "source": [
    "# inspect Ch-to-En human translation #1 of sentence from patent summary\n",
    "reference_human1_sentence = data['reference_human1_sentence']\n",
    "print(reference_human1_sentence)"
   ]
  },
  {
   "cell_type": "code",
   "execution_count": 5,
   "metadata": {},
   "outputs": [
    {
     "name": "stdout",
     "output_type": "stream",
     "text": [
      "['The invention discloses a machine processing and text error correction method and device, a computing device, and a storage medium, specifically comprising corrected and rewritten text pairs of incorrect text and corresponding correct text.', 'The corrected and rewritten text pairs serving as a training corpus to train the machine processing model, thereby preparing a machine processing model suitable for text error correction.', 'Through extraction of corrected and rewritten text pairs from a log, the machine processing model can be trained and thus made fit for text correction by inputting the first text into the machine processing model to get the second text, that is the error correction result text.', 'In addition, the language model or the common lexicon can be used to determine whether the first text needs to be corrected.', 'The training corpus extracted from a log can be used to train the language model, or the common lexicon can be sorted by segmenting and counting text in the log.', 'This is how to easily implement text error correction.']\n"
     ]
    }
   ],
   "source": [
    "# inspect Ch-to-En human translation #1 of full patent summary\n",
    "reference_human1_summary = data['reference_human1_summary']\n",
    "print(reference_human1_summary)"
   ]
  },
  {
   "cell_type": "code",
   "execution_count": 6,
   "metadata": {},
   "outputs": [
    {
     "name": "stdout",
     "output_type": "stream",
     "text": [
      "['It can use the practice language material gathered from the diary or daily journal to train the language model, and it can also initialize the common vocabulary bank through the segmentation and analysis of the diary or daily journal text']\n"
     ]
    }
   ],
   "source": [
    "# inspect Ch-to-En human translation #2 of sentence from patent summary\n",
    "reference_human2_sentence = data['reference_human2_sentence']\n",
    "print(reference_human2_sentence)"
   ]
  },
  {
   "cell_type": "code",
   "execution_count": 7,
   "metadata": {},
   "outputs": [
    {
     "name": "stdout",
     "output_type": "stream",
     "text": [
      "['This invention makes public a machine processing and text error correction method and hardware, computing equipment and storage medium, and specifically pairs error text with the corresponding corrected and modified correct text.', 'It uses this text pair as training material for the machine processing model, and from there prepares the machine processing model that is applied to the text correction.', 'It can train the machine processing model using a diary or daily journal and make it suitable for text correction.', 'The first text version is inputted into the machine processing model to get the second text version, which is the corrected text.', 'Additionally, it can also use a stored language model or common vocabulary bank to determine if the first text version needs correction.', 'It can use the practice language material gathered from the diary or daily journal to train the language model, and it can also initialize the common vocabulary bank through the segmentation and analysis of the diary or daily journal text.', 'Through all this, text correction is conveniently implemented.']\n"
     ]
    }
   ],
   "source": [
    "# inspect Ch-to-En human translation #2 of full patent summary\n",
    "reference_human2_summary = print(data['reference_human2_summary'])"
   ]
  },
  {
   "cell_type": "markdown",
   "metadata": {},
   "source": [
    "Finally, we source \"candidate\" machine translations from two separate machine learning algorithms: Google Translate, and the World Intellectual Property Organization (WIPO)."
   ]
  },
  {
   "cell_type": "code",
   "execution_count": 8,
   "metadata": {},
   "outputs": [
    {
     "name": "stdout",
     "output_type": "stream",
     "text": [
      "['The invention discloses a machine processing and text error correction method and device, a computing device and a storage medium, and particularly comprises an error correction rewriting pair of an error text and a corresponding correct text, and an error correction rewriting pair as a training corpus, and a machine processing model.', 'Training is performed, thereby preparing a machine processing model suitable for text correction. The machine processing model can be trained to mine the error correction by mining the error correction rewrite pair from the log.', 'The first text is input into the machine processing model to obtain a second text, that is, an error correction result text.', 'In addition, you can use the language model or common lexicon to determine whether the first text needs to be corrected.', ' The language model can be trained using the training corpus extracted from the log, or the common lexicon can be organized by segmenting and counting the text in the log.', 'Thereby, text correction is facilitated.']\n"
     ]
    }
   ],
   "source": [
    "# inspect machine translation by Google Translate of full summary\n",
    "candidate_google_summary = data['candidate_google_summary']\n",
    "print(candidate_google_summary)"
   ]
  },
  {
   "cell_type": "code",
   "execution_count": 9,
   "metadata": {},
   "outputs": [
    {
     "name": "stdout",
     "output_type": "stream",
     "text": [
      "['The language model can be trained using the training corpus extracted from the log, or the common lexicon can be organized by segmenting and counting the text in the log.']\n"
     ]
    }
   ],
   "source": [
    "# inspect machine translation by Google Translate of sentence from summary\n",
    "candidate_google_sentence = data['candidate_google_sentence']\n",
    "print(candidate_google_sentence)"
   ]
  },
  {
   "cell_type": "code",
   "execution_count": 10,
   "metadata": {},
   "outputs": [
    {
     "name": "stdout",
     "output_type": "stream",
     "text": [
      "['The present invention discloses a machine processing and text correction method and device, computing equipment and a storage medium.', 'Specifically comprising corrected and rewritten text pairs of incorrect text and corresponding correct text, the corrected and rewritten text pairs serving as a training corpus for training a machine processing model, and in this way developing a machine processing model for use in text correction.', 'Through extraction of corrected and rewritten text pairs from a log, the machine processing model can be trained and thus made fit for text correction by inputting a first text into the machine processing model to obtain a second text i.e. a corrected text result.', 'Moreover, a language model or a lexicon of commonly used words can be used to assess whether text needs correction. The training corpus extracted from the log can be used to train the language model and also, through text segmentation and statistical analysis of text in the log compile a lexicon of commonly used words.', 'Thus, text correction can be made easier and more convenient.']\n"
     ]
    }
   ],
   "source": [
    "# inspect machine translation by WIPO of full summary\n",
    "candidate_wipo_summary = data['candidate_wipo_summary']\n",
    "print(candidate_wipo_summary)"
   ]
  },
  {
   "cell_type": "code",
   "execution_count": 11,
   "metadata": {},
   "outputs": [
    {
     "name": "stdout",
     "output_type": "stream",
     "text": [
      "['The training corpus extracted from the log can be used to train the language model and also, through text segmentation and statistical analysis of text in the log compile a lexicon of commonly used words.']\n"
     ]
    }
   ],
   "source": [
    "# inspect machine translation by WIPO of full summary\n",
    "candidate_wipo_sentence = data['candidate_wipo_sentence']\n",
    "print(candidate_wipo_sentence)"
   ]
  },
  {
   "cell_type": "markdown",
   "metadata": {},
   "source": [
    "#### Pre-process data"
   ]
  },
  {
   "cell_type": "code",
   "execution_count": 12,
   "metadata": {},
   "outputs": [
    {
     "data": {
      "text/plain": [
       "['The invention discloses a machine processing and text error correction method and device, a computing device, and a storage medium, specifically comprising corrected and rewritten text pairs of incorrect text and corresponding correct text.',\n",
       " 'The corrected and rewritten text pairs serving as a training corpus to train the machine processing model, thereby preparing a machine processing model suitable for text error correction.',\n",
       " 'Through extraction of corrected and rewritten text pairs from a log, the machine processing model can be trained and thus made fit for text correction by inputting the first text into the machine processing model to get the second text, that is the error correction result text.',\n",
       " 'In addition, the language model or the common lexicon can be used to determine whether the first text needs to be corrected.',\n",
       " 'The training corpus extracted from a log can be used to train the language model, or the common lexicon can be sorted by segmenting and counting text in the log.',\n",
       " 'This is how to easily implement text error correction.']"
      ]
     },
     "execution_count": 12,
     "metadata": {},
     "output_type": "execute_result"
    }
   ],
   "source": [
    "reference_human1_summary"
   ]
  },
  {
   "cell_type": "code",
   "execution_count": 113,
   "metadata": {},
   "outputs": [],
   "source": [
    "# For summary-level example\n",
    "# split sentences into tokens\n",
    "tokens_ref_human1_summary = split_tokens(reference_human1_summary)\n",
    "tokens_ref_human2_summary = split_tokens(reference_human1_summary)\n",
    "\n",
    "# clean punctuation from tokens\n",
    "tokens_ref_human1_summary = clean_punctuation(tokens)\n",
    "tokens_ref_human2_summary = clean_punctuation(tokens)"
   ]
  },
  {
   "cell_type": "code",
   "execution_count": null,
   "metadata": {},
   "outputs": [],
   "source": [
    "# split sentences into tokens for human 2 translation of summary\n",
    "tokens_ref_human2_summary = split_tokens(reference_human1_summary)\n",
    "\n",
    "# clean punctuation from tokens\n",
    "tokens_ref_human1_summary = clean_punctuation(tokens)"
   ]
  },
  {
   "cell_type": "code",
   "execution_count": 136,
   "metadata": {},
   "outputs": [],
   "source": [
    "# For sentence-level example\n",
    "# split sentences into tokens\n",
    "tokens_ref_human1_sentence = split_tokens(reference_human1_sentence)\n",
    "tokens_ref_human2_sentence = split_tokens(reference_human2_sentence)\n",
    "\n",
    "# clean punctuation from tokens\n",
    "tokens_ref_human1_sentence = clean_punctuation(tokens_ref_human1_sentence)\n",
    "tokens_ref_human2_sentence = clean_punctuation(tokens_ref_human2_sentence)"
   ]
  },
  {
   "cell_type": "code",
   "execution_count": 31,
   "metadata": {},
   "outputs": [],
   "source": [
    "# split sentences into tokens\n",
    "tokens_candidate_google_summary = split_tokens(candidate_google_summary)\n",
    "\n",
    "# clean punctuation from tokens\n",
    "tokens_candidate_google_summary = clean_punctuation(tokens_candidate_google_summary)"
   ]
  },
  {
   "cell_type": "code",
   "execution_count": 34,
   "metadata": {},
   "outputs": [],
   "source": [
    "# split sentences into tokens\n",
    "tokens_candidate_google_sentence = split_tokens(candidate_google_sentence)\n",
    "\n",
    "# clean punctuation from tokens\n",
    "tokens_candidate_google_sentence = clean_punctuation(tokens_candidate_google_sentence)"
   ]
  },
  {
   "cell_type": "code",
   "execution_count": 92,
   "metadata": {},
   "outputs": [],
   "source": [
    "# split sentences into tokens\n",
    "tokens_candidate_wipo_sentence = split_tokens(candidate_wipo_sentence)\n",
    "\n",
    "# clean punctuation from tokens\n",
    "tokens_candidate_wipo_sentence = clean_punctuation(tokens_candidate_wipo_sentence)"
   ]
  },
  {
   "cell_type": "code",
   "execution_count": 32,
   "metadata": {},
   "outputs": [
    {
     "name": "stdout",
     "output_type": "stream",
     "text": [
      "bi-grams: [('The', 'invention'), ('invention', 'discloses'), ('discloses', 'a'), ('a', 'machine'), ('machine', 'processing')]\n",
      "four-grams: [('The', 'invention', 'discloses', 'a'), ('invention', 'discloses', 'a', 'machine'), ('discloses', 'a', 'machine', 'processing'), ('a', 'machine', 'processing', 'and'), ('machine', 'processing', 'and', 'text')]\n"
     ]
    }
   ],
   "source": [
    "# Inspect n-grams\n",
    "\n",
    "# return list of bi-grams\n",
    "bi_grams = list(ngrams(tokens_ref_human1_summary[0], 2))[0:5]\n",
    "\n",
    "# returns list of four-grams\n",
    "four_grams = list(ngrams(tokens_ref_human1_summary[0], 4))[0:5]\n",
    "\n",
    "print(f\"bi-grams: {bi_grams}\")\n",
    "print(f\"four-grams: {four_grams}\")"
   ]
  },
  {
   "cell_type": "markdown",
   "metadata": {},
   "source": [
    "#### Calculate BLEU"
   ]
  },
  {
   "cell_type": "markdown",
   "metadata": {},
   "source": [
    "We calculate BLEU scores using the nltk.translate.bleu_score implementation from the Natural Language Toolkit (NLTK) package. We use the modified_precision function and not the sentence_bleu method that only implements a partial version of the BLEU algorithm. After preparing the translation texts via standard NLP pre-processing to represent the texts as word tokens, we pass the modified_precision function the two reference sentences as a list of lists of tokens. We compute the n-gram matches for each candidate sentence and add the clipped n-gram counts for all the candidate sentences. Next, we then divide by the number of candidate n-grams in the candidate corpus to compute a modified precision score for the candidate corpus."
   ]
  },
  {
   "cell_type": "markdown",
   "metadata": {},
   "source": [
    "What's the result? The score of the first candidate translation by Google Translate is .XXX. The score of the second machine translation by WIPO is .XXX. If we conduct the same translation on the entire abstract text, the score of Google is .XXX, and the score of WIPO is. With this basic example of the application of BLEU in mind, we can now discuss some of the potential limits of the application of BLEU to machine translation and natural language processing tasks more generally."
   ]
  },
  {
   "cell_type": "code",
   "execution_count": 149,
   "metadata": {},
   "outputs": [
    {
     "name": "stdout",
     "output_type": "stream",
     "text": [
      "1.0\n"
     ]
    }
   ],
   "source": [
    "# BLEU-4 example\n",
    "bleu4_example = corpus_bleu([tokens_ref_human1_sentence], tokens_ref_human1_sentence)\n",
    "print(float(bleu4_example))"
   ]
  },
  {
   "cell_type": "code",
   "execution_count": 150,
   "metadata": {},
   "outputs": [
    {
     "name": "stdout",
     "output_type": "stream",
     "text": [
      "0.4370614964591188\n"
     ]
    }
   ],
   "source": [
    "# BLEU-4 for Google translation with one reference using corpus_bleu\n",
    "bleu4_google_corpusbleu_human1 = corpus_bleu([tokens_ref_human1_sentence], tokens_candidate_google_sentence)\n",
    "print(float(bleu4_google_corpusbleu_human1))"
   ]
  },
  {
   "cell_type": "code",
   "execution_count": 151,
   "metadata": {},
   "outputs": [
    {
     "name": "stdout",
     "output_type": "stream",
     "text": [
      "5.010025055942425e-155\n"
     ]
    }
   ],
   "source": [
    "# BLEU-4 for Google translation with second reference using corpus_bleu\n",
    "bleu4_google_corpusbleu_human2 = corpus_bleu([tokens_ref_human2_sentence], tokens_candidate_google_sentence)\n",
    "print(float(bleu4_google_corpusbleu_human2))"
   ]
  },
  {
   "cell_type": "code",
   "execution_count": 155,
   "metadata": {},
   "outputs": [
    {
     "name": "stdout",
     "output_type": "stream",
     "text": [
      "0.4523563820810908\n"
     ]
    }
   ],
   "source": [
    "# BLEU-4 for Google translation with two references using corpus_bleu\n",
    "bleu4_google_corpusbleusm_2refs = corpus_bleu([[tokens_ref_human1_sentence[0], tokens_ref_human2_sentence[0]]], \n",
    "                                        tokens_candidate_google_sentence)\n",
    "print(float(bleu4_google_corpusbleusm_2refs))"
   ]
  },
  {
   "cell_type": "code",
   "execution_count": 154,
   "metadata": {},
   "outputs": [
    {
     "ename": "NameError",
     "evalue": "name 'bleu4_google_sentencebleu' is not defined",
     "output_type": "error",
     "traceback": [
      "\u001b[0;31m---------------------------------------------------------------------------\u001b[0m",
      "\u001b[0;31mNameError\u001b[0m                                 Traceback (most recent call last)",
      "\u001b[0;32m<ipython-input-154-9458b7ebf69c>\u001b[0m in \u001b[0;36m<module>\u001b[0;34m\u001b[0m\n\u001b[1;32m      1\u001b[0m \u001b[0;31m# BLEU-4 for Google translation\u001b[0m\u001b[0;34m\u001b[0m\u001b[0;34m\u001b[0m\u001b[0;34m\u001b[0m\u001b[0m\n\u001b[1;32m      2\u001b[0m \u001b[0mbleu2_google_sentencebleu\u001b[0m \u001b[0;34m=\u001b[0m \u001b[0msentence_bleu\u001b[0m\u001b[0;34m(\u001b[0m\u001b[0;34m[\u001b[0m\u001b[0mtokens_ref_human1_sentence\u001b[0m\u001b[0;34m[\u001b[0m\u001b[0;36m0\u001b[0m\u001b[0;34m]\u001b[0m\u001b[0;34m,\u001b[0m \u001b[0mtokens_ref_human2_sentence\u001b[0m\u001b[0;34m[\u001b[0m\u001b[0;36m0\u001b[0m\u001b[0;34m]\u001b[0m\u001b[0;34m]\u001b[0m\u001b[0;34m,\u001b[0m \u001b[0mtokens_candidate_google_sentence\u001b[0m\u001b[0;34m[\u001b[0m\u001b[0;36m0\u001b[0m\u001b[0;34m]\u001b[0m\u001b[0;34m)\u001b[0m\u001b[0;34m\u001b[0m\u001b[0;34m\u001b[0m\u001b[0m\n\u001b[0;32m----> 3\u001b[0;31m \u001b[0mprint\u001b[0m\u001b[0;34m(\u001b[0m\u001b[0mfloat\u001b[0m\u001b[0;34m(\u001b[0m\u001b[0mbleu4_google_sentencebleu\u001b[0m\u001b[0;34m)\u001b[0m\u001b[0;34m)\u001b[0m\u001b[0;34m\u001b[0m\u001b[0;34m\u001b[0m\u001b[0m\n\u001b[0m",
      "\u001b[0;31mNameError\u001b[0m: name 'bleu4_google_sentencebleu' is not defined"
     ]
    }
   ],
   "source": [
    "# BLEU-4 for Google translation with two references using sentence_bleu\n",
    "bleu2_google_sentencebleu = sentence_bleu([tokens_ref_human1_sentence[0], tokens_ref_human2_sentence[0]], tokens_candidate_google_sentence[0])\n",
    "print(float(bleu4_google_sentencebleu))"
   ]
  },
  {
   "cell_type": "code",
   "execution_count": 144,
   "metadata": {},
   "outputs": [
    {
     "name": "stdout",
     "output_type": "stream",
     "text": [
      "0.4370614964591188\n"
     ]
    }
   ],
   "source": [
    "# BLEU-4 for Google translation with smoothing function\n",
    "bleu4_google_sentencebleu = sentence_bleu(tokens_ref_human1_sentence, tokens_candidate_google_sentence[0], smoothing_function=chencherry.method1)\n",
    "print(float(bleu4_google_sentencebleu))"
   ]
  },
  {
   "cell_type": "code",
   "execution_count": 145,
   "metadata": {},
   "outputs": [
    {
     "name": "stdout",
     "output_type": "stream",
     "text": [
      "0.4103757636936567\n"
     ]
    }
   ],
   "source": [
    "# BLEU-4 for WIPO translation\n",
    "bleu4_google_sentencebleusm = corpus_bleu([tokens_ref_human1_sentence], tokens_candidate_wipo_sentence)\n",
    "print(float(bleu2_google_sentencebleusm))"
   ]
  },
  {
   "cell_type": "code",
   "execution_count": 146,
   "metadata": {},
   "outputs": [
    {
     "name": "stdout",
     "output_type": "stream",
     "text": [
      "0.48435192067731586\n"
     ]
    }
   ],
   "source": [
    "# BLEU-4 for WIPO translation\n",
    "bleu4_wipo_corpusbleusm_2refs = corpus_bleu([[tokens_ref_human1_sentence[0], tokens_ref_human2_sentence[0]]], \n",
    "                                        tokens_candidate_wipo_sentence)\n",
    "print(float(bleu4_wipo_corpusbleusm_2refs))"
   ]
  },
  {
   "cell_type": "markdown",
   "metadata": {},
   "source": [
    "#### Multiple references"
   ]
  },
  {
   "cell_type": "code",
   "execution_count": null,
   "metadata": {},
   "outputs": [],
   "source": []
  },
  {
   "cell_type": "code",
   "execution_count": 87,
   "metadata": {},
   "outputs": [
    {
     "name": "stdout",
     "output_type": "stream",
     "text": [
      "1.0\n"
     ]
    }
   ],
   "source": [
    "# BLEU-2 for Google translation\n",
    "bleu2_example = sentence_bleu(tokens_ref_human1_sentence, tokens_ref_human1_sentence[0], smoothing_function=chencherry.method1)\n",
    "print(float(bleu2_example))"
   ]
  },
  {
   "cell_type": "code",
   "execution_count": 85,
   "metadata": {},
   "outputs": [
    {
     "data": {
      "text/plain": [
       "['The',\n",
       " 'training',\n",
       " 'corpus',\n",
       " 'extracted',\n",
       " 'from',\n",
       " 'a',\n",
       " 'log',\n",
       " 'can',\n",
       " 'be',\n",
       " 'used',\n",
       " 'to',\n",
       " 'train',\n",
       " 'the',\n",
       " 'language',\n",
       " 'model',\n",
       " 'or',\n",
       " 'the',\n",
       " 'common',\n",
       " 'lexicon',\n",
       " 'can',\n",
       " 'be',\n",
       " 'sorted',\n",
       " 'by',\n",
       " 'segmenting',\n",
       " 'and',\n",
       " 'counting',\n",
       " 'text',\n",
       " 'in',\n",
       " 'the',\n",
       " 'log']"
      ]
     },
     "execution_count": 85,
     "metadata": {},
     "output_type": "execute_result"
    }
   ],
   "source": [
    "tokens_ref_human1_sentence[0]"
   ]
  },
  {
   "cell_type": "code",
   "execution_count": 75,
   "metadata": {},
   "outputs": [
    {
     "name": "stdout",
     "output_type": "stream",
     "text": [
      "0.0\n"
     ]
    }
   ],
   "source": [
    "# BLEU-2 for Google translation\n",
    "bleu2_google = modified_precision(tokens_ref_human1_sentence, tokens_candidate_google_sentence, n=2)\n",
    "print(float(bleu2_google))"
   ]
  },
  {
   "cell_type": "code",
   "execution_count": 68,
   "metadata": {},
   "outputs": [
    {
     "name": "stdout",
     "output_type": "stream",
     "text": [
      "[['The', 'training', 'corpus', 'extracted', 'from', 'a', 'log', 'can', 'be', 'used', 'to', 'train', 'the', 'language', 'model', 'or', 'the', 'common', 'lexicon', 'can', 'be', 'sorted', 'by', 'segmenting', 'and', 'counting', 'text', 'in', 'the', 'log']]\n"
     ]
    }
   ],
   "source": [
    "print(tokens_ref_human1_sentence)"
   ]
  },
  {
   "cell_type": "code",
   "execution_count": 66,
   "metadata": {},
   "outputs": [
    {
     "name": "stdout",
     "output_type": "stream",
     "text": [
      "[['The', 'language', 'model', 'can', 'be', 'trained', 'using', 'the', 'training', 'corpus', 'extracted', 'from', 'the', 'log', 'or', 'the', 'common', 'lexicon', 'can', 'be', 'organized', 'by', 'segmenting', 'and', 'counting', 'the', 'text', 'in', 'the', 'log']]\n"
     ]
    }
   ],
   "source": [
    "print(tokens_candidate_google_sentence)"
   ]
  },
  {
   "cell_type": "code",
   "execution_count": null,
   "metadata": {},
   "outputs": [],
   "source": [
    "# BLEU-3 for Google translation\n",
    "bleu3mod = modified_precision([references_list[0]], candidates_list, n=3)\n",
    "print(float(bleu3mod))\n",
    "\n",
    "# BLEU-4 for Google translation\n",
    "bleu4mod = modified_precision([references_list[0]], candidates_list, n=4)\n",
    "print(float(bleu4mod))\n",
    "\n",
    "# BLEU-4 for Google translation, which is default for function\n",
    "bleu4mod = modified_precision(references_list[0]], candidates_list, n=4)\n",
    "print(float(bleu4mod))"
   ]
  },
  {
   "cell_type": "code",
   "execution_count": null,
   "metadata": {},
   "outputs": [],
   "source": [
    "# .35 BLEU score for WIPO's translation\n",
    "bleu_wipo = sentence_bleu([i[0]], i[3])\n",
    "bleu_wipo"
   ]
  },
  {
   "cell_type": "code",
   "execution_count": null,
   "metadata": {},
   "outputs": [],
   "source": [
    "bleu_google_2refs = sentence_bleu([i[0], i[1]], i[2])\n",
    "bleu_google_2refs"
   ]
  },
  {
   "cell_type": "code",
   "execution_count": null,
   "metadata": {},
   "outputs": [],
   "source": [
    "bleu_wipo_2refs = sentence_bleu([i[0], i[1]], i[3])\n",
    "bleu_wipo_2refs"
   ]
  },
  {
   "cell_type": "code",
   "execution_count": null,
   "metadata": {},
   "outputs": [],
   "source": [
    "bleu2mod = modified_precision([i[0]], i[2], n=2)\n",
    "print(bleu2mod)"
   ]
  },
  {
   "cell_type": "code",
   "execution_count": null,
   "metadata": {},
   "outputs": [],
   "source": [
    "bleu3mod = modified_precision([i[0]], i[2], n=3)\n",
    "bleu3mod"
   ]
  },
  {
   "cell_type": "code",
   "execution_count": null,
   "metadata": {},
   "outputs": [],
   "source": [
    "bleu4mod = modified_precision([i[0]], i[2], n=4)\n",
    "bleu4mod"
   ]
  },
  {
   "cell_type": "code",
   "execution_count": null,
   "metadata": {},
   "outputs": [],
   "source": [
    "# by default, bleu_score calculates a BLEU-4,which i a score for the overlap of up to 4-grams"
   ]
  },
  {
   "cell_type": "code",
   "execution_count": null,
   "metadata": {},
   "outputs": [],
   "source": [
    "\"the geometric mean of the test corpus’ modified precision scores times an exponential brevity penalty factor\""
   ]
  },
  {
   "cell_type": "code",
   "execution_count": null,
   "metadata": {},
   "outputs": [],
   "source": [
    "# calculcate bleu score of candidate Google summary\n",
    "bleu_wipo_summary = corpus_bleu()"
   ]
  },
  {
   "cell_type": "code",
   "execution_count": null,
   "metadata": {},
   "outputs": [],
   "source": [
    "# calculate bleu score of candidate WIPO summary\n",
    "bleu_google_summary = corpus_bleu()"
   ]
  }
 ],
 "metadata": {
  "kernelspec": {
   "display_name": "Python 3",
   "language": "python",
   "name": "python3"
  },
  "language_info": {
   "codemirror_mode": {
    "name": "ipython",
    "version": 3
   },
   "file_extension": ".py",
   "mimetype": "text/x-python",
   "name": "python",
   "nbconvert_exporter": "python",
   "pygments_lexer": "ipython3",
   "version": "3.7.4"
  }
 },
 "nbformat": 4,
 "nbformat_minor": 2
}
