{
 "cells": [
  {
   "cell_type": "markdown",
   "metadata": {},
   "source": [
    "# Measuring Multilingual Machines\n",
    "#### BLEU Scores and Cross-Lingual Machine Learning\n",
    "\n",
    "#### by Lee Mackey"
   ]
  },
  {
   "cell_type": "markdown",
   "metadata": {},
   "source": [
    "This notebook accompanies an article of the same name published on Medium"
   ]
  },
  {
   "cell_type": "markdown",
   "metadata": {},
   "source": [
    "Does your machine learn in Chinese? 您和您的機器學習中文嗎? I don’t speak a word of Mandarin or Cantonese so Google Translate gets all the credit — good or bad — for the preceding sentence. But how could you quickly evaluate the quality of this machine translation? This challenge encapsulates the basic demand that gives rise to the BLEU metric. BLEU, which stands for bilingual language understudy, is the default measure of machine translation quality and is also sometimes applied to more general cross-lingual approaches to natural language processing (NLP). The metric is well-established in the machine translation space but some analysts also question the application to a wider set of NLP tasks beyond the original purpose for which the algorithm was developed. This article explores these issues by briefly discussing basic lessons and limits of BLEU using examples drawn from the multilingual space of global patent documents."
   ]
  },
  {
   "cell_type": "code",
   "execution_count": 7,
   "metadata": {},
   "outputs": [],
   "source": [
    "# Import packages\n",
    "\n",
    "from nltk.translate.bleu_score import (sentence_bleu, corpus_bleu, \n",
    "                                       modified_precision, \n",
    "                                       SmoothingFunction)\n",
    "\n",
    "from nltk import (bigrams, trigrams, ngrams, sent_tokenize, word_tokenize)\n",
    "\n",
    "import tokenize\n",
    "import textwrap\n",
    "import string"
   ]
  },
  {
   "cell_type": "markdown",
   "metadata": {},
   "source": [
    "### Basics of BLEU"
   ]
  },
  {
   "cell_type": "markdown",
   "metadata": {},
   "source": [
    "Researchers at IBM developed the BLEU algorithm in 2002 as an efficient method to evaluate machine translation tasks that would otherwise require human evaluators. The original paper by the developers, Papineni and colleagues, is a good place to start if you’re interested in the founding milieu and details of the algorithm [1]. BLEU is an adjusted measure of precision of the overlap of word sequences between a “candidate” machine translation and one or more “reference” human translations. Conceptualizing the algorithm at the unit of a machine-translated sentence, BLEU counts the maximum number of times that word sequences, expressed by the term n-grams, occur in human-translated sentences. The adjusted counts of each n-gram in the sentence are summed and the number is then “adjusted” by dividing by the total (unclipped) number of n-grams in the candidate text. "
   ]
  },
  {
   "cell_type": "markdown",
   "metadata": {},
   "source": [
    "The BLEU score is as a number between 0 and 1, where 0 represents the complete absence of overlap in n-grams between candidate and reference texts, and where 1 might equal a machine translation that is exactly similar to one of the reference texts. While this example considers BLEU at the level of the sentence, the actual evaluation of a machine translation is calculated by averaging out sentence scores across an entire corpus and adjusting this aggregate metric to account for the typically-longer word lengths of machine translations. If you’re interested in learning more, you might learn to calculate BLEU in a fifteen-minute video by Andrew Ng of DeepLearning.Ai. To make learning BLEU more tangible, I begin with machine translations and human translations of Chinese text"
   ]
  },
  {
   "cell_type": "markdown",
   "metadata": {},
   "source": [
    "### Applications of BLEU using Patent Texts as Examples\n",
    "A growing share of patents in the machine learning space are originally written and filed in Chinese, according to a recent report by the global governance organization of patents. To explore the basics of BLEU in more tangible manner, we first begin with the international filing of a Chinese language patent by the e-commerce company Alibaba for an invention related to natural language processing."
   ]
  },
  {
   "cell_type": "code",
   "execution_count": null,
   "metadata": {},
   "outputs": [],
   "source": [
    "# Inspect example data: international patent for NLP invention by Alibaba\n",
    "\n",
    "# inspect title of patent in original Chinese\n",
    "original_title_cn = (\"\"\"机器处理及文本纠错方法和装置、计算设备以及存储介质\"\"\")\n",
    "\n",
    "# inspect summary of patent in original Chinese\n",
    "original_summary_cn = (\"\"\"本发明公开了一种机器处理及文本纠错方法和装置、计算设备以及存储介质\n",
    "，具体包括错误文本和对应的正确文本的纠错改写对, 以纠错改写对作为训练语料，对机器处理模型\n",
    "进行训练，由此准备好适用于文本纠错的机器处理模型。可以通过从日志中挖掘纠错改写对来对机器\n",
    "处理模型进行训练，使其适于对文本进行纠错。将第一文本输入到机器处理模型中，得到第二文本，\n",
    "即纠错结果文本。另外，还可以使用语言模型或常用词库先判断第一文本是否需要进行纠错。可以使\n",
    "用从日志中挖掘出的训练语料来训练语言模型，也可以通过对日志中的文本进行分词、统计来整理常\n",
    "用词库。由此，使得能够方便地实现文本纠错\"\"\")\n",
    "\n",
    "# for more details on the example patent and the data source:\n",
    "# paste url into browser to inspect patent at Chinese version of WIPO Patentscope GUI   \n",
    "https://patentscope.wipo.int/search/zh/detail.jsf?docId=WO2019085779\n",
    "    \n",
    "# paste url into browser to inspect patent at English version of WIPO Patentscope GUI\n",
    "https://patentscope.wipo.int/search/en/detail.jsf?docId=WO2019085779"
   ]
  },
  {
   "cell_type": "markdown",
   "metadata": {},
   "source": [
    "A sentence from the Chinese language abstract section of the original patent is displayed below."
   ]
  },
  {
   "cell_type": "code",
   "execution_count": null,
   "metadata": {},
   "outputs": [],
   "source": [
    "# inspect sentence from summary of patent in original Chinese\n",
    "original_sentence = \"\"\"可以使用从日志中挖掘出的训练语料来训练语言模型，也可以通过对\n",
    "日志中的文本进行分词、统计来整理常用词库.\"\"\""
   ]
  },
  {
   "cell_type": "markdown",
   "metadata": {},
   "source": [
    "Human translators often produce translations of equivalent quality that nonetheless differ in structure or word choice. BLEU is thus developed to accept single or multiple reference translations by humans. Next, we obtain Chinese-to-English \"reference\" from two human translators via the translation platform Gengo. The translations are below."
   ]
  },
  {
   "cell_type": "code",
   "execution_count": null,
   "metadata": {},
   "outputs": [],
   "source": [
    "# Inspect \"standard\" quality Ch-to-En translations by humans on Gengo platform\n",
    "\n",
    "# inspect Ch-to-En human translation #1 of sentence from patent summary\n",
    "reference_human1_sentence = \"\"\"The training corpus extracted from a log can be used \n",
    "to train the language model, or the common lexicon can be sorted by \n",
    "segmenting and counting text in the log.\"\"\"\n",
    "\n",
    "# inspect Ch-to-En human translation #1 of full patent summary\n",
    "reference_human1_summary = (\"\"\"The invention discloses a machine processing and \\\n",
    "text error correction method and device, a computing device, and a \\\n",
    "storage medium, specifically comprising corrected and rewritten text \\\n",
    "pairs of incorrect  text and corresponding correct text. The corrected \\\n",
    "and rewritten text pairs serving as a training corpus to train the \\\n",
    "machine processing model, thereby preparing a machine processing model \\\n",
    "suitable for text error correction. Through extraction of corrected and \\\n",
    "rewritten text pairs from a log, the machine processing model can be \\\n",
    "trained and thus made fit for text correction by inputting the first text \\\n",
    "into the machine processing model to get the second text, that is the \\\n",
    "error correction result text. In addition, the language model or the \\\n",
    "common lexicon can be used to determine whether the first text needs to \\\n",
    "be corrected. The training corpus extracted from a log can be used to \\\n",
    "train the language model, or the common lexicon can be sorted by \\\n",
    "segmenting and counting text in the log. This is how to easily implement \\\n",
    "text error correction.\"\"\")"
   ]
  },
  {
   "cell_type": "code",
   "execution_count": null,
   "metadata": {},
   "outputs": [],
   "source": [
    "# inspect Ch-to-En human translation #2 of sentence from patent summary\n",
    "reference_human2_sentence = \"\"\"It can use the practice language material gathered \n",
    "from the diary or daily journal to train the language model, and it can\n",
    "also initialize the common vocabulary bank through the segmentation and\n",
    "analysis of the diary or daily journal text.\"\"\"\n",
    "\n",
    "# inspect Ch-to-En human translation #2 of full patent summary\n",
    "reference_human2_summary = (\"\"\"This invention makes public a machine processing and\n",
    "text error correction method and hardware, computing equipment and storage \n",
    "medium, and specifically pairs error text with the corresponding corrected \n",
    "and modified correct text. It uses this text pair as training material for \n",
    "the machine processing model, and from there prepares the machine processing\n",
    "model that is applied to the text correction. It can train the machine processing\n",
    "model using a diary or daily journal and make it suitable for text correction.\n",
    "The first text version is inputted into the machine processing model to get \n",
    "the second text version, which is the corrected text. Additionally, it can \n",
    "also use a stored language model or common vocabulary bank to determine if \n",
    "the first text version needs correction. It can use the practice language \n",
    "material gathered from the diary or daily journal to train the language model,\n",
    "and it can also initialize the common vocabulary bank through the segmentation\n",
    "and analysis of the diary or daily journal text. Through all this, text \n",
    "correction is conveniently implemented.\"\"\")"
   ]
  },
  {
   "cell_type": "markdown",
   "metadata": {},
   "source": [
    "Finally, we source \"candidate\" machine translations from two separate machine learning algorithms: Google Translate, and the World Intellectual Property Organization (WIPO)."
   ]
  },
  {
   "cell_type": "code",
   "execution_count": null,
   "metadata": {},
   "outputs": [],
   "source": [
    "# inspect machine translation by Google Translate of sentence from summary\n",
    "candidate_google_sentence = \"\"\"The language model can be trained using the training \n",
    "corpus extracted from the log, or the common lexicon can be organized by \n",
    "segmenting and counting the text in the log.\"\"\""
   ]
  },
  {
   "cell_type": "code",
   "execution_count": 24,
   "metadata": {},
   "outputs": [],
   "source": [
    "# inspect machine translation by Google Translate of full summary\n",
    "candidate_google_summary = \"\"\"The invention discloses a machine processing and\n",
    "text error correction method and device, a computing device and a\n",
    "storage medium, and particularly comprises an error correction\n",
    "rewriting pair of an error text and a corresponding correct text, and\n",
    "an error correction rewriting pair as a training corpus, and a machine\n",
    "processing model. Training is performed, thereby preparing a machine\n",
    "processing model suitable for text correction. The machine processing\n",
    "model can be trained to mine the error correction by mining the error\n",
    "correction rewrite pair from the log. The first text is input into the\n",
    "machine processing model to obtain a second text, that is, an error\n",
    "correction result text. In addition, you can use the language model or\n",
    "common lexicon to determine whether the first text needs to be corrected.\n",
    "The language model can be trained using the training corpus extracted\n",
    "from the log, or the common lexicon can be organized by segmenting and\n",
    "counting the text in the log. Thereby, text correction is facilitated.\"\"\""
   ]
  },
  {
   "cell_type": "code",
   "execution_count": 27,
   "metadata": {},
   "outputs": [
    {
     "data": {
      "text/plain": [
       "['The invention discloses a machine processing and text error correction method',\n",
       " 'and device, a computing device and a storage medium, and particularly comprises',\n",
       " 'an error correction rewriting pair of an error text and a corresponding correct',\n",
       " 'text, and an error correction rewriting pair as a training corpus, and a',\n",
       " 'machine processing model. Training is performed, thereby preparing a machine',\n",
       " 'processing model suitable for text correction. The machine processing model can',\n",
       " 'be trained to mine the error correction by mining the error correction rewrite',\n",
       " 'pair from the log. The first text is input into the machine processing model to',\n",
       " 'obtain a second text, that is, an error correction result text. In addition,',\n",
       " 'you can use the language model or common lexicon to determine whether the first',\n",
       " 'text needs to be corrected. The language model can be trained using the',\n",
       " 'training corpus extracted from the log, or the common lexicon can be organized',\n",
       " 'by segmenting and counting the text in the log. Thereby, text correction is',\n",
       " 'facilitated.']"
      ]
     },
     "execution_count": 27,
     "metadata": {},
     "output_type": "execute_result"
    }
   ],
   "source": [
    "x = textwrap.wrap(candidate_google_summary, width=79)\n",
    "x"
   ]
  },
  {
   "cell_type": "code",
   "execution_count": 18,
   "metadata": {},
   "outputs": [
    {
     "data": {
      "text/plain": [
       "'The invention discloses a machine processing and\\ntext error correction method and device, a computing device and a\\nstorage medium, and particularly comprises an error correction\\nrewriting pair of an error text and a corresponding correct text, and\\nan error correction rewriting pair as a training corpus, and a machine\\nprocessing model. Training is performed, thereby preparing a machine\\nprocessing model suitable for text correction. The machine processing\\nmodel can be trained to mine the error correction by mining the error\\ncorrection rewrite pair from the log. The first text is input into the\\nmachine processing model to obtain a second text, that is, an error\\ncorrection result text. In addition, you can use the language model or\\ncommon lexicon to determine whether the first text needs to be corrected.\\nThe language model can be trained using the training corpus extracted\\nfrom the log, or the common lexicon can be organized by segmenting and\\ncounting the text in the log. Thereby, text correction is facilitated.'"
      ]
     },
     "execution_count": 18,
     "metadata": {},
     "output_type": "execute_result"
    }
   ],
   "source": [
    "candidate_google_summary"
   ]
  },
  {
   "cell_type": "code",
   "execution_count": null,
   "metadata": {},
   "outputs": [],
   "source": [
    "# inspect machine translation by WIPO of full summary\n",
    "candidate_wipo_sentence = (\"\"\"The training corpus extracted from the log can be \n",
    "used to train the language model and also, through text segmentation and \n",
    "statistical analysis of text in the log compile a lexicon of commonly \n",
    "used words.\"\"\")"
   ]
  },
  {
   "cell_type": "code",
   "execution_count": null,
   "metadata": {},
   "outputs": [],
   "source": [
    "# inspect machine translation by Google Translate of full summary\n",
    "candidate_wipo_summary = (\"\"\"The present invention discloses a machine processing and text correction method and device, \n",
    "computing equipment and a storage medium. Specifically comprising corrected and rewritten text pairs of incorrect \n",
    "text and corresponding correct text, the corrected and rewritten text pairs serving as a training corpus for training\n",
    "a machine processing model, and in this way developing a machine processing model for use in text correction. \n",
    "Through extraction of corrected and rewritten text pairs from a log, the machine processing model can be trained \n",
    "and thus made fit for text correction by inputting a first text into the machine processing model to obtain a second\n",
    "text i.e. a corrected text result. Moreover, a language model or a lexicon of commonly used words can be used to \n",
    "assess whether text needs correction. The training corpus extracted from the log can be used to train the language \n",
    "model and also, through text segmentation and statistical analysis of text in the log compile a lexicon of commonly \n",
    "used words. Thus, text correction can be made easier and more convenient.\"\")"
   ]
  },
  {
   "cell_type": "code",
   "execution_count": null,
   "metadata": {},
   "outputs": [],
   "source": [
    "# Pre-process data"
   ]
  },
  {
   "cell_type": "code",
   "execution_count": null,
   "metadata": {},
   "outputs": [],
   "source": [
    "def tokenize(dictionary):\n",
    "    \"\"\"converts a dictionary of texts to a list of lists of tokens\"\"\"\n",
    "    returned_list = []\n",
    "    for key, value in dictionary.items():\n",
    "        list_val = value.split()\n",
    "        returned_list.append(list_val)\n",
    "    return returned_list"
   ]
  },
  {
   "cell_type": "code",
   "execution_count": null,
   "metadata": {},
   "outputs": [],
   "source": [
    "# organizes references in a dictionary\n",
    "references_dict = {'reference_sentence_1': human1_sentence\n",
    "                  ,'reference_sentence_2': human2_sentence}\n",
    "\n",
    "candidates_dict = {'candidate_sentence_1': google_sentence\n",
    "                  ,'candidate_sentence_2': wipo_sentence}\n",
    "\n",
    "\n",
    "# tokenizes translations using helper function\n",
    "reference_list = tokenize(references_dict)\n",
    "candidates_list = tokenize(candidates_dict)"
   ]
  },
  {
   "cell_type": "code",
   "execution_count": null,
   "metadata": {},
   "outputs": [],
   "source": [
    "# this returns a list of bigrams\n",
    "bi_grams = list(ngrams(candidates_list[0], 1))[0:3]\n",
    "print(f\"Bi-gram examples from Google's translation: {bi_grams}\")"
   ]
  },
  {
   "cell_type": "code",
   "execution_count": null,
   "metadata": {},
   "outputs": [],
   "source": [
    "# this returns a list of bigrams\n",
    "bi_grams = list(ngrams(candidates_list[0], 2))[0:3]\n",
    "print(f\"Bi-gram examples from Google's translation: {bi_grams}\")"
   ]
  },
  {
   "cell_type": "code",
   "execution_count": null,
   "metadata": {},
   "outputs": [],
   "source": [
    "# this returns a list of bigrams\n",
    "bi_grams = list(ngrams(candidates_list[0], 3))[0:3]\n",
    "print(f\"Bi-gram examples from Google's translation: {bi_grams}\")"
   ]
  },
  {
   "cell_type": "code",
   "execution_count": null,
   "metadata": {},
   "outputs": [],
   "source": [
    "# this returns a list of tuples containing 4-grams\n",
    "four_grams = list(ngrams(candidates_list[0], 4))[0:3]\n",
    "print(f\"4-gram examples from Google's translation: {four_grams}\")"
   ]
  },
  {
   "cell_type": "markdown",
   "metadata": {},
   "source": [
    "#### Sentence-level scores"
   ]
  },
  {
   "cell_type": "code",
   "execution_count": 8,
   "metadata": {},
   "outputs": [
    {
     "ename": "NameError",
     "evalue": "name 'references_list' is not defined",
     "output_type": "error",
     "traceback": [
      "\u001b[0;31m---------------------------------------------------------------------------\u001b[0m",
      "\u001b[0;31mNameError\u001b[0m                                 Traceback (most recent call last)",
      "\u001b[0;32m<ipython-input-8-2c15a02406a2>\u001b[0m in \u001b[0;36m<module>\u001b[0;34m\u001b[0m\n\u001b[1;32m      1\u001b[0m \u001b[0;31m# BLEU-1 for Google translation\u001b[0m\u001b[0;34m\u001b[0m\u001b[0;34m\u001b[0m\u001b[0;34m\u001b[0m\u001b[0m\n\u001b[0;32m----> 2\u001b[0;31m \u001b[0mbleu1mod_google\u001b[0m \u001b[0;34m=\u001b[0m \u001b[0mmodified_precision\u001b[0m\u001b[0;34m(\u001b[0m\u001b[0;34m[\u001b[0m\u001b[0mreferences_list\u001b[0m\u001b[0;34m[\u001b[0m\u001b[0;36m0\u001b[0m\u001b[0;34m]\u001b[0m\u001b[0;34m]\u001b[0m\u001b[0;34m,\u001b[0m \u001b[0mcandidates_list\u001b[0m\u001b[0;34m[\u001b[0m\u001b[0;36m0\u001b[0m\u001b[0;34m]\u001b[0m\u001b[0;34m,\u001b[0m \u001b[0mn\u001b[0m\u001b[0;34m=\u001b[0m\u001b[0;36m1\u001b[0m\u001b[0;34m)\u001b[0m\u001b[0;34m\u001b[0m\u001b[0;34m\u001b[0m\u001b[0m\n\u001b[0m\u001b[1;32m      3\u001b[0m \u001b[0mprint\u001b[0m\u001b[0;34m(\u001b[0m\u001b[0mfloat\u001b[0m\u001b[0;34m(\u001b[0m\u001b[0mbleu1mod_google\u001b[0m\u001b[0;34m)\u001b[0m\u001b[0;34m)\u001b[0m\u001b[0;34m\u001b[0m\u001b[0;34m\u001b[0m\u001b[0m\n",
      "\u001b[0;31mNameError\u001b[0m: name 'references_list' is not defined"
     ]
    }
   ],
   "source": [
    "# BLEU-1 for Google translation\n",
    "bleu1mod_google = modified_precision([references_list[0]], candidates_list[0], n=1)\n",
    "print(float(bleu1mod_google))"
   ]
  },
  {
   "cell_type": "code",
   "execution_count": null,
   "metadata": {},
   "outputs": [],
   "source": [
    "# BLEU-2 for Google translation\n",
    "bleu2mod = modified_precision([references_list[0]], candidates_list, n=2)\n",
    "print(float(bleu2mod))\n",
    "\n",
    "# BLEU-3 for Google translation\n",
    "bleu3mod = modified_precision([references_list[0]], candidates_list, n=3)\n",
    "print(float(bleu3mod))\n",
    "\n",
    "# BLEU-4 for Google translation\n",
    "bleu4mod = modified_precision([references_list[0]], candidates_list, n=4)\n",
    "print(float(bleu4mod))\n",
    "\n",
    "# BLEU-4 for Google translation, which is default for function\n",
    "bleu4mod = modified_precision(references_list[0]], candidates_list, n=4)\n",
    "print(float(bleu4mod))"
   ]
  },
  {
   "cell_type": "code",
   "execution_count": null,
   "metadata": {},
   "outputs": [],
   "source": [
    "# .35 BLEU score for WIPO's translation\n",
    "bleu_wipo = sentence_bleu([i[0]], i[3])\n",
    "bleu_wipo"
   ]
  },
  {
   "cell_type": "code",
   "execution_count": null,
   "metadata": {},
   "outputs": [],
   "source": [
    "bleu_google_2refs = sentence_bleu([i[0], i[1]], i[2])\n",
    "bleu_google_2refs"
   ]
  },
  {
   "cell_type": "code",
   "execution_count": null,
   "metadata": {},
   "outputs": [],
   "source": [
    "bleu_wipo_2refs = sentence_bleu([i[0], i[1]], i[3])\n",
    "bleu_wipo_2refs"
   ]
  },
  {
   "cell_type": "code",
   "execution_count": null,
   "metadata": {},
   "outputs": [],
   "source": [
    "bleu2mod = modified_precision([i[0]], i[2], n=2)\n",
    "print(bleu2mod)"
   ]
  },
  {
   "cell_type": "code",
   "execution_count": null,
   "metadata": {},
   "outputs": [],
   "source": [
    "bleu3mod = modified_precision([i[0]], i[2], n=3)\n",
    "bleu3mod"
   ]
  },
  {
   "cell_type": "code",
   "execution_count": null,
   "metadata": {},
   "outputs": [],
   "source": [
    "bleu4mod = modified_precision([i[0]], i[2], n=4)\n",
    "bleu4mod"
   ]
  },
  {
   "cell_type": "code",
   "execution_count": null,
   "metadata": {},
   "outputs": [],
   "source": [
    "ref_four_grams = list(ngrams(i[0], 4))\n",
    "ref_four_grams, len(four_grams)"
   ]
  },
  {
   "cell_type": "markdown",
   "metadata": {},
   "source": [
    "google_four_grams = list(ngrams(i[2], 4))\n",
    "google_four_grams, len(google_four_grams)"
   ]
  },
  {
   "cell_type": "code",
   "execution_count": null,
   "metadata": {},
   "outputs": [],
   "source": [
    "set(ref_four_grams) = set(google_four_grams)"
   ]
  },
  {
   "cell_type": "code",
   "execution_count": null,
   "metadata": {},
   "outputs": [],
   "source": [
    "set(google_four_grams) & set(ref_four_grams)"
   ]
  },
  {
   "cell_type": "code",
   "execution_count": null,
   "metadata": {},
   "outputs": [],
   "source": [
    "# by default, bleu_score calculates a BLEU-4,which i a score for the overlap of up to 4-grams"
   ]
  },
  {
   "cell_type": "code",
   "execution_count": null,
   "metadata": {},
   "outputs": [],
   "source": [
    "\"the geometric mean of the test corpus’ modified precision scores times an exponential brevity penalty factor\""
   ]
  },
  {
   "cell_type": "code",
   "execution_count": null,
   "metadata": {},
   "outputs": [],
   "source": [
    "by default, bleu_score calculates a BLEU-4,which is an the overlap of 4-grams overlaps"
   ]
  },
  {
   "cell_type": "code",
   "execution_count": null,
   "metadata": {},
   "outputs": [],
   "source": [
    "# converts google paragraph to a list of sentences\n",
    "google_sentences = sent_tokenize(google_paragraph)\n",
    "print(google_sentences[5])"
   ]
  },
  {
   "cell_type": "code",
   "execution_count": null,
   "metadata": {},
   "outputs": [],
   "source": [
    "google_sentences[0], len(google_sentences), type(google_sentences)"
   ]
  },
  {
   "cell_type": "code",
   "execution_count": null,
   "metadata": {},
   "outputs": [],
   "source": [
    "human1_paragraph"
   ]
  },
  {
   "cell_type": "code",
   "execution_count": 9,
   "metadata": {},
   "outputs": [],
   "source": [
    "# inspect human translation #2 of the original text\n",
    "# conducted through the company Gengo at a \"standard\" level\n",
    "human2_paragraph = \"\"\"This invention makes public a machine processing and text error correction method and hardware, computing equipment and storage medium, and specifically pairs error text with the corresponding corrected and modified correct text. It uses this text pair as training material for the machine processing model, and from there prepares the machine processing model that is applied to the text correction. It can train the machine processing model using a diary or daily journal and make it suitable for text correction. The first text version is inputted into the machine processing model to get the second text version, which is the corrected text. Additionally, it can also use a stored language model or common vocabulary bank to determine if the first text version needs correction. It can use the practice language material gathered from the diary or daily journal to train the language model, and it can also initialize the common vocabulary bank through the segmentation and analysis of the diary or daily journal text. Through all this, text correction is conveniently implemented.\"\"\""
   ]
  },
  {
   "cell_type": "code",
   "execution_count": 13,
   "metadata": {},
   "outputs": [
    {
     "data": {
      "text/plain": [
       "['The invention discloses a machine processing and text error correction',\n",
       " 'method and device, a computing device, and a storage medium,',\n",
       " 'specifically comprising corrected and rewritten text pairs of',\n",
       " 'incorrect  text and corresponding correct text. The corrected and',\n",
       " 'rewritten text pairs serving as a training corpus to train the machine',\n",
       " 'processing model, thereby preparing a machine processing model',\n",
       " 'suitable for text error correction. Through extraction of corrected',\n",
       " 'and rewritten text pairs from a log, the machine processing model can',\n",
       " 'be trained and thus made fit for text correction by inputting the',\n",
       " 'first text into the machine processing model to get the second text,',\n",
       " 'that is the error correction result text. In addition, the language',\n",
       " 'model or the common lexicon can be used to determine whether the first',\n",
       " 'text needs to be corrected. The training corpus extracted from a log',\n",
       " 'can be used to train the language model, or the common lexicon can be',\n",
       " 'sorted by segmenting and counting text in the log. This is how to',\n",
       " 'easily implement text error correction.']"
      ]
     },
     "execution_count": 13,
     "metadata": {},
     "output_type": "execute_result"
    }
   ],
   "source": [
    "i = textwrap.wrap(human1_paragraph)\n",
    "i"
   ]
  },
  {
   "cell_type": "code",
   "execution_count": null,
   "metadata": {},
   "outputs": [],
   "source": [
    "wipo_paragraph = \"\"\"The present invention discloses a machine processing and text correction method and device, \n",
    "computing equipment and a storage medium. Specifically comprising corrected and rewritten text pairs of incorrect \n",
    "text and corresponding correct text, the corrected and rewritten text pairs serving as a training corpus for training\n",
    "a machine processing model, and in this way developing a machine processing model for use in text correction. \n",
    "Through extraction of corrected and rewritten text pairs from a log, the machine processing model can be trained \n",
    "and thus made fit for text correction by inputting a first text into the machine processing model to obtain a second\n",
    "text i.e. a corrected text result. Moreover, a language model or a lexicon of commonly used words can be used to \n",
    "assess whether text needs correction. The training corpus extracted from the log can be used to train the language \n",
    "model and also, through text segmentation and statistical analysis of text in the log compile a lexicon of commonly \n",
    "used words. Thus, text correction can be made easier and more convenient.\"\""
   ]
  }
 ],
 "metadata": {
  "kernelspec": {
   "display_name": "Python 3",
   "language": "python",
   "name": "python3"
  },
  "language_info": {
   "codemirror_mode": {
    "name": "ipython",
    "version": 3
   },
   "file_extension": ".py",
   "mimetype": "text/x-python",
   "name": "python",
   "nbconvert_exporter": "python",
   "pygments_lexer": "ipython3",
   "version": "3.7.4"
  }
 },
 "nbformat": 4,
 "nbformat_minor": 2
}
